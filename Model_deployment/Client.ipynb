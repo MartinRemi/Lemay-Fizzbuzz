{
 "cells": [
  {
   "cell_type": "markdown",
   "id": "87e937fc",
   "metadata": {},
   "source": [
    "| Author: Remi Martin \t| Date: November 23rd 2022 \t|\n",
    "|---------------------\t|-------------------------:\t|\n",
    "\n",
    "# Dependencies"
   ]
  },
  {
   "cell_type": "code",
   "execution_count": 1,
   "id": "f0db0122",
   "metadata": {},
   "outputs": [],
   "source": [
    "import requests"
   ]
  },
  {
   "cell_type": "markdown",
   "id": "4b0776f3",
   "metadata": {},
   "source": [
    "# Config"
   ]
  },
  {
   "cell_type": "code",
   "execution_count": 2,
   "id": "c2c27990",
   "metadata": {},
   "outputs": [],
   "source": [
    "url = 'http://127.0.0.1:8000'"
   ]
  },
  {
   "cell_type": "markdown",
   "id": "d53b6aa1",
   "metadata": {},
   "source": [
    "# Queries\n",
    "Please enter a sentence that will be completed using the GPT2 model."
   ]
  },
  {
   "cell_type": "code",
   "execution_count": 3,
   "id": "f115185f",
   "metadata": {},
   "outputs": [
    {
     "name": "stdout",
     "output_type": "stream",
     "text": [
      "Hello, my name is Remi and I am a Machine Learning specialist\n"
     ]
    }
   ],
   "source": [
    "input_sentence = input()"
   ]
  },
  {
   "cell_type": "code",
   "execution_count": 4,
   "id": "a8a1c072",
   "metadata": {},
   "outputs": [],
   "source": [
    "payload = {'sentence' : input_sentence}\n",
    "\n",
    "res = requests.post(url, json=payload)"
   ]
  },
  {
   "cell_type": "code",
   "execution_count": 5,
   "id": "d631c3fa",
   "metadata": {},
   "outputs": [
    {
     "name": "stdout",
     "output_type": "stream",
     "text": [
      "[{\"generated_text\":\"Hello, my name is Remi and I am a Machine Learning specialist at the University of Helsinki. I am the co-head of project development and implementation of the Neural Network. Today, I am writing a tutorial for programming an Automatic Learning Machine Learning\"}]\n",
      "\n"
     ]
    }
   ],
   "source": [
    "if res.ok:\n",
    "    print(res.text)\n",
    "else:\n",
    "    print('Error: ' + res.reason)"
   ]
  },
  {
   "cell_type": "markdown",
   "id": "b2fe0bb9",
   "metadata": {},
   "source": [
    "# Model selection"
   ]
  },
  {
   "cell_type": "markdown",
   "id": "a1c222ba",
   "metadata": {},
   "source": [
    "I chose the GPT2 model for the convenience of working with text and adding a simple interaction between the user and the Jupyter Notebook.\n",
    "\n",
    "It is also a widely used NLP model.\n",
    "\n",
    "Overall both programming tasks are with done NLP models and data."
   ]
  },
  {
   "cell_type": "markdown",
   "id": "0aecabfe",
   "metadata": {},
   "source": [
    "# Problems\n",
    "The chosen model can be quite heavy and the download of the weights could be slow.\n",
    "If your internet is slow, you may need to increase the --timeout parameter in the 'docker-compose.yml' file."
   ]
  }
 ],
 "metadata": {
  "kernelspec": {
   "display_name": "Python 3 (ipykernel)",
   "language": "python",
   "name": "python3"
  },
  "language_info": {
   "codemirror_mode": {
    "name": "ipython",
    "version": 3
   },
   "file_extension": ".py",
   "mimetype": "text/x-python",
   "name": "python",
   "nbconvert_exporter": "python",
   "pygments_lexer": "ipython3",
   "version": "3.9.12"
  }
 },
 "nbformat": 4,
 "nbformat_minor": 5
}
